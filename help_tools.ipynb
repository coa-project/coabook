{
 "cells": [
  {
   "cell_type": "markdown",
   "metadata": {},
   "source": [
    "# Help on coa.tools (pycoa release 1.0)\n",
    "\n",
    "## Making PyCoA available\n",
    "If executed locally"
   ]
  },
  {
   "cell_type": "code",
   "execution_count": 1,
   "metadata": {},
   "outputs": [],
   "source": [
    "import sys\n",
    "sys.path.insert(1, '../pycoa')"
   ]
  },
  {
   "cell_type": "markdown",
   "metadata": {},
   "source": [
    "If executed on a server (e.g. Google Colab ), you should install cocoa via pip3"
   ]
  },
  {
   "cell_type": "code",
   "execution_count": null,
   "metadata": {},
   "outputs": [],
   "source": [
    "#!pip3 install -q git+https://github.com/coa-project/pycoa.git"
   ]
  },
  {
   "cell_type": "code",
   "execution_count": 3,
   "metadata": {},
   "outputs": [],
   "source": [
    "import coa.tools as ct"
   ]
  },
  {
   "cell_type": "code",
   "execution_count": 4,
   "metadata": {},
   "outputs": [
    {
     "name": "stdout",
     "output_type": "stream",
     "text": [
      "Help on module coa.tools in coa:\n",
      "\n",
      "NAME\n",
      "    coa.tools\n",
      "\n",
      "DESCRIPTION\n",
      "    Project : PyCoA - Copyright ©pycoa.fr\n",
      "    Date :    april-november 2020\n",
      "    Authors : Olivier Dadoun, Julien Browaeys, Tristan Beau\n",
      "    License: See joint LICENSE file\n",
      "    About\n",
      "    -----\n",
      "    This is the PyCoA tools module to be considered as a swiss knife list of functions.\n",
      "    One find function for \n",
      "     - verbose or warning mode management.\n",
      "     - kwargs analysis \n",
      "    \n",
      "    The _verbose_mode variable should be set to 0 if no printing output needed. The\n",
      "    default value is 1 (print information to stdout). The 2 value grants a debug level information\n",
      "    printing.\n",
      "\n",
      "FUNCTIONS\n",
      "    info(*args)\n",
      "        Print to stdout with similar args as the builtin print function,\n",
      "        if _verbose_mode > 0\n",
      "    \n",
      "    kwargs_test(given_args, expected_args, error_string)\n",
      "        Test that the list of kwargs is compatible with expected args. If not\n",
      "        it raises a CoaKeyError with error_string.\n",
      "    \n",
      "    verb(*args)\n",
      "        Print to stdout with similar args as the builtin print function,\n",
      "        if _verbose_mode > 1\n",
      "\n",
      "FILE\n",
      "    /home/beau/Dropbox/Git/pycoa/coa/tools.py\n",
      "\n",
      "\n"
     ]
    }
   ],
   "source": [
    "help(ct)"
   ]
  },
  {
   "cell_type": "code",
   "execution_count": null,
   "metadata": {},
   "outputs": [],
   "source": []
  }
 ],
 "metadata": {
  "kernelspec": {
   "display_name": "Python 3",
   "language": "python",
   "name": "python3"
  },
  "language_info": {
   "codemirror_mode": {
    "name": "ipython",
    "version": 3
   },
   "file_extension": ".py",
   "mimetype": "text/x-python",
   "name": "python",
   "nbconvert_exporter": "python",
   "pygments_lexer": "ipython3",
   "version": "3.8.5"
  }
 },
 "nbformat": 4,
 "nbformat_minor": 4
}
