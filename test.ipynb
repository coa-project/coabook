https://nbviewer.jupyter.org/github/coa-project/coabook/blob/master/demo_pycoa.ipynb
