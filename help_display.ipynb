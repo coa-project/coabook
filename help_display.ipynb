{
 "cells": [
  {
   "cell_type": "markdown",
   "metadata": {},
   "source": [
    "# Help on coa.display (pycoa release 1.0)\n",
    "\n",
    "## Making PyCoA available\n",
    "If executed locally"
   ]
  },
  {
   "cell_type": "code",
   "execution_count": 1,
   "metadata": {},
   "outputs": [],
   "source": [
    "import sys\n",
    "sys.path.insert(1, '../pycoa')"
   ]
  },
  {
   "cell_type": "markdown",
   "metadata": {},
   "source": [
    "If executed on a server (e.g. Google Colab ), you should install cocoa via pip3"
   ]
  },
  {
   "cell_type": "code",
   "execution_count": null,
   "metadata": {},
   "outputs": [],
   "source": [
    "!pip3 install -q git+https://github.com/coa-project/pycoa.github"
   ]
  },
  {
   "cell_type": "code",
   "execution_count": 2,
   "metadata": {},
   "outputs": [],
   "source": [
    "import coa.display as cd"
   ]
  },
  {
   "cell_type": "code",
   "execution_count": 3,
   "metadata": {},
   "outputs": [
    {
     "name": "stdout",
     "output_type": "stream",
     "text": [
      "Help on module coa.display in coa:\n",
      "\n",
      "NAME\n",
      "    coa.display\n",
      "\n",
      "DESCRIPTION\n",
      "    Project : PyCoA\n",
      "    Date :    april-november 2020\n",
      "    Authors : Olivier Dadoun, Julien Browaeys, Tristan Beau\n",
      "    Copyright ©pycoa.fr\n",
      "    License: See joint LICENSE file\n",
      "    \n",
      "    Module : display\n",
      "    About :\n",
      "    \n",
      "    An interface module to easily plot pycoa data with bokeh\n",
      "\n",
      "CLASSES\n",
      "    builtins.object\n",
      "        CocoDisplay\n",
      "    \n",
      "    class CocoDisplay(builtins.object)\n",
      "     |  CocoDisplay(db=None)\n",
      "     |  \n",
      "     |  Methods defined here:\n",
      "     |  \n",
      "     |  CrystalFig(self, crys, err_y)\n",
      "     |  \n",
      "     |  DefFigInteractive(self, **kwargs)\n",
      "     |      Define interactive bokeh figure i.e with a window location selection\n",
      "     |  \n",
      "     |  __delete__(self, instance)\n",
      "     |  \n",
      "     |  __init__(self, db=None)\n",
      "     |      Initialize self.  See help(type(self)) for accurate signature.\n",
      "     |  \n",
      "     |  get_pandas(self)\n",
      "     |      Retrieve the pandas when CoCoDisplay is called\n",
      "     |  \n",
      "     |  return_map(self, mypandas, which_data=None, width_height=None, date='last')\n",
      "     |      Create a Folium map from a pandas input\n",
      "     |      \n",
      "     |      Keyword arguments\n",
      "     |      -----------------\n",
      "     |      babepandas : pandas consided\n",
      "     |      which_data: variable from pandas data. If pandas is produced from pycoa get_stat method\n",
      "     |      then 'diff' and 'cumul' can be also used\n",
      "     |      width_height : as a list of width and height of the histo, default [500,400]\n",
      "     |      date : - default 'last'\n",
      "     |             Value at the last date (from database point of view) and for all the location defined in\n",
      "     |             the pandas will be computed\n",
      "     |             - date\n",
      "     |             Value at date (from database point of view) and for all the location defined in the pandas\n",
      "     |             will be computed\n",
      "     |  \n",
      "     |  standardfig(self, title=None, axis_type='linear', x_axis_type='datetime')\n",
      "     |  \n",
      "     |  ----------------------------------------------------------------------\n",
      "     |  Static methods defined here:\n",
      "     |  \n",
      "     |  min_max_range(a_min, a_max)\n",
      "     |      Return a cleverly rounded min and max giving raw min and raw max of data.\n",
      "     |      Usefull for hist range and colormap\n",
      "     |  \n",
      "     |  pycoa_basic_plot(babepandas, input_names_data=None, title=None, width_height=None)\n",
      "     |      Create a Bokeh plot with a date axis from pandas input\n",
      "     |      \n",
      "     |      Keyword arguments\n",
      "     |      -----------------\n",
      "     |      babepandas : pandas where the data is considered\n",
      "     |      input_names_data : variable from pandas data . If pandas is produced from pycoa get_stat method\n",
      "     |      the 'diff' or 'cumul' are available\n",
      "     |      A list of names_data can be given\n",
      "     |      title: title for the figure , no title by default\n",
      "     |      width_height : width and height of the figure,  default [400,300]\n",
      "     |      \n",
      "     |      \n",
      "     |      Note\n",
      "     |      -----------------\n",
      "     |      HoverTool is available it returns location, date and value\n",
      "     |  \n",
      "     |  pycoa_histo(babepandas, input_names_data=None, bins=None, title=None, width_height=None, date='last')\n",
      "     |      Create a Bokeh histogram from a pandas input\n",
      "     |      \n",
      "     |      Keyword arguments\n",
      "     |      -----------------\n",
      "     |      babepandas : pandas consided\n",
      "     |      input_names_data : variable from pandas data. If pandas is produced from pycoa get_stat method\n",
      "     |      then 'diff' and 'cumul' can be also used\n",
      "     |      title: title for the figure , no title by default\n",
      "     |      width_height : as a list of width and height of the histo, default [500,400]\n",
      "     |      bins : number of bins of the hitogram default 50\n",
      "     |      date : - default 'last'\n",
      "     |             Value at the last date (from database point of view) and for all the location defined in\n",
      "     |             the pandas will be computed\n",
      "     |             - date\n",
      "     |             Value at date (from database point of view) and for all the location defined in the pandas\n",
      "     |             will be computed\n",
      "     |             - 'all'\n",
      "     |             Value for all the date and for all the location will be computed\n",
      "     |      Note\n",
      "     |      -----------------\n",
      "     |      HoverTool is available it returns position of the middle of the bin and the value. In the case where\n",
      "     |      date='all' i.e all the date for all the location then location name is provided\n",
      "     |  \n",
      "     |  ----------------------------------------------------------------------\n",
      "     |  Data descriptors defined here:\n",
      "     |  \n",
      "     |  __dict__\n",
      "     |      dictionary for instance variables (if defined)\n",
      "     |  \n",
      "     |  __weakref__\n",
      "     |      list of weak references to the object (if defined)\n",
      "\n",
      "FUNCTIONS\n",
      "    resume_pandas(self, pd)\n",
      "\n",
      "DATA\n",
      "    Paired12 = ('#a6cee3', '#1f78b4', '#b2df8a', '#33a02c', '#fb9a99', '#e...\n",
      "    brewer = {'Accent': {3: ('#7fc97f', '#beaed4', '#fdc086'), 4: ('#7fc97...\n",
      "    width_height_default = [500, 400]\n",
      "\n",
      "FILE\n",
      "    /home/beau/Dropbox/Git/pycoa/coa/display.py\n",
      "\n",
      "\n"
     ]
    }
   ],
   "source": [
    "help(cd)"
   ]
  },
  {
   "cell_type": "code",
   "execution_count": null,
   "metadata": {},
   "outputs": [],
   "source": []
  }
 ],
 "metadata": {
  "kernelspec": {
   "display_name": "Python 3",
   "language": "python",
   "name": "python3"
  },
  "language_info": {
   "codemirror_mode": {
    "name": "ipython",
    "version": 3
   },
   "file_extension": ".py",
   "mimetype": "text/x-python",
   "name": "python",
   "nbconvert_exporter": "python",
   "pygments_lexer": "ipython3",
   "version": "3.8.5"
  }
 },
 "nbformat": 4,
 "nbformat_minor": 4
}
