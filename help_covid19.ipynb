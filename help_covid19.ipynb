{
 "cells": [
  {
   "cell_type": "markdown",
   "metadata": {},
   "source": [
    "# Help on coa.covid19 (pycoa release 1.0)\n",
    "\n",
    "## Making PyCoA available\n",
    "If executed locally"
   ]
  },
  {
   "cell_type": "code",
   "execution_count": 3,
   "metadata": {},
   "outputs": [],
   "source": [
    "import sys\n",
    "sys.path.insert(1, '../pycoa')"
   ]
  },
  {
   "cell_type": "markdown",
   "metadata": {},
   "source": [
    "If executed on a server (e.g. Google Colab ), you should install cocoa via pip3"
   ]
  },
  {
   "cell_type": "code",
   "execution_count": null,
   "metadata": {},
   "outputs": [],
   "source": [
    "#!pip3 install -q git+https://github.com/coa-project/pycoa.git"
   ]
  },
  {
   "cell_type": "code",
   "execution_count": 4,
   "metadata": {},
   "outputs": [],
   "source": [
    "import coa.covid19 as cc"
   ]
  },
  {
   "cell_type": "code",
   "execution_count": 5,
   "metadata": {},
   "outputs": [
    {
     "name": "stdout",
     "output_type": "stream",
     "text": [
      "Help on module coa.covid19 in coa:\n",
      "\n",
      "NAME\n",
      "    coa.covid19\n",
      "\n",
      "DESCRIPTION\n",
      "    Project : PyCoA\n",
      "    Date :    april-november 2020\n",
      "    Authors : Olivier Dadoun, Julien Browaeys, Tristan Beau\n",
      "    Copyright ©pycoa.fr\n",
      "    License: See joint LICENSE file\n",
      "    \n",
      "    Module : coa.covid19\n",
      "    About :\n",
      "    \n",
      "    Main class definitions for covid19 dataset access. Currently, we are only using the JHU CSSE data.\n",
      "    The parser class gives a simplier access through an already filled dict of data\n",
      "\n",
      "CLASSES\n",
      "    builtins.object\n",
      "        DataBase\n",
      "    \n",
      "    class DataBase(builtins.object)\n",
      "     |  DataBase(db_name)\n",
      "     |  \n",
      "     |  Parse the chosen database and a return a pandas\n",
      "     |  \n",
      "     |  Methods defined here:\n",
      "     |  \n",
      "     |  __init__(self, db_name)\n",
      "     |      Initialize self.  See help(type(self)) for accurate signature.\n",
      "     |  \n",
      "     |  csv_to_pandas_index_location_date(self, url, **kwargs)\n",
      "     |      Parse and convert CSV file to a pandas with location+date as an index\n",
      "     |  \n",
      "     |  fill_pycoa_field(self)\n",
      "     |      Fill PyCoA variables with database data\n",
      "     |  \n",
      "     |  flat_list(self, matrix)\n",
      "     |  \n",
      "     |  get_available_database(self)\n",
      "     |      Return available COVID database\n",
      "     |  \n",
      "     |  get_available_keys_words(self)\n",
      "     |      Return available keys words for the database selected\n",
      "     |  \n",
      "     |  get_cumul_days(self)\n",
      "     |  \n",
      "     |  get_current_days(self)\n",
      "     |  \n",
      "     |  get_database_url(self)\n",
      "     |      Return the url associated with chosen database\n",
      "     |  \n",
      "     |  get_dates(self)\n",
      "     |      Return all dates available in the current database\n",
      "     |  \n",
      "     |  get_db(self)\n",
      "     |      Return database name\n",
      "     |  \n",
      "     |  get_diff_days(self)\n",
      "     |  \n",
      "     |  get_locations(self)\n",
      "     |      Return available location countries / regions in the current database\n",
      "     |  \n",
      "     |  get_more_db_info(self, country)\n",
      "     |  \n",
      "     |  get_posteriors(self, sr, window=7, min_periods=1)\n",
      "     |  \n",
      "     |  get_rawdata(self)\n",
      "     |      Return raw data associated with chosen database\n",
      "     |  \n",
      "     |  get_stats(self, **kwargs)\n",
      "     |  \n",
      "     |  pandas_index_location_date_to_jhu_format(self, mypandas, **kwargs)\n",
      "     |      Return a pandas in PyCoA Structure\n",
      "     |  \n",
      "     |  parse_convert_jhu(self)\n",
      "     |      For center for Systems Science and Engineering (CSSE) at Johns Hopkins University\n",
      "     |      COVID-19 Data Repository by the see homepage: https://github.com/CSSEGISandData/COVID-19\n",
      "     |  \n",
      "     |  set_more_db_info(self, country, val)\n",
      "     |  \n",
      "     |  smooth_cases(self, cases)\n",
      "     |      ## https://www.kaggle.com/freealf/estimation-of-rt-from-cases\n",
      "     |  \n",
      "     |  ----------------------------------------------------------------------\n",
      "     |  Data descriptors defined here:\n",
      "     |  \n",
      "     |  __dict__\n",
      "     |      dictionary for instance variables (if defined)\n",
      "     |  \n",
      "     |  __weakref__\n",
      "     |      list of weak references to the object (if defined)\n",
      "\n",
      "FILE\n",
      "    /home/beau/Dropbox/Git/pycoa/coa/covid19.py\n",
      "\n",
      "\n"
     ]
    }
   ],
   "source": [
    "help(cc)"
   ]
  },
  {
   "cell_type": "code",
   "execution_count": null,
   "metadata": {},
   "outputs": [],
   "source": []
  }
 ],
 "metadata": {
  "kernelspec": {
   "display_name": "Python 3",
   "language": "python",
   "name": "python3"
  },
  "language_info": {
   "codemirror_mode": {
    "name": "ipython",
    "version": 3
   },
   "file_extension": ".py",
   "mimetype": "text/x-python",
   "name": "python",
   "nbconvert_exporter": "python",
   "pygments_lexer": "ipython3",
   "version": "3.8.5"
  }
 },
 "nbformat": 4,
 "nbformat_minor": 4
}
