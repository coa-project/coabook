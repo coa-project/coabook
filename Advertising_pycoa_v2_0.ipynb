{
  "nbformat": 4,
  "nbformat_minor": 0,
  "metadata": {
    "colab": {
      "name": "Advertising_pycoa_v2.0",
      "provenance": [],
      "collapsed_sections": [],
      "toc_visible": true,
      "include_colab_link": true
    },
    "kernelspec": {
      "name": "python3",
      "display_name": "Python 3"
    }
  },
  "cells": [
    {
      "cell_type": "markdown",
      "metadata": {
        "id": "view-in-github",
        "colab_type": "text"
      },
      "source": [
        "<a href=\"https://colab.research.google.com/github/coa-project/coabook/blob/master/Advertising_pycoa_v2_0.ipynb\" target=\"_parent\"><img src=\"https://colab.research.google.com/assets/colab-badge.svg\" alt=\"Open In Colab\"/></a>"
      ]
    },
    {
      "cell_type": "markdown",
      "metadata": {
        "id": "ZUMqkLeQ_FgH"
      },
      "source": [
        "<a href=\"https://nbviewer.jupyter.org/github/coa-project/coabook/blob/master/using_pycoa_in_depth.ipynb\" target=\"_parent\" ><img src=\"https://raw.githubusercontent.com/jupyter/design/master/logos/Badges/nbviewer_badge.svg\" height=\"25\"  alt=\"View in Jupyter nbviewwer\" align=\"middle\" /></a>"
      ]
    },
    {
      "cell_type": "markdown",
      "metadata": {
        "id": "xueZfi-b_sre"
      },
      "source": [
        "![logo-bitmap-small.png](data:image/png;base64,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)\n",
        "\n",
        "# Producing output plots for pycoa v2.0 advertising\n",
        "[ⓒpycoa.fr](http://pycoa.fr)\n",
        "\n",
        "This notebook is designed for the `v2.0` version of pycoa."
      ]
    },
    {
      "cell_type": "code",
      "metadata": {
        "id": "nB9MdWTLNcLi",
        "colab": {
          "base_uri": "https://localhost:8080/"
        },
        "outputId": "e49e816b-f0a0-4754-ef36-f4692542ffaa"
      },
      "source": [
        "!pip install git+https://github.com/coa-project/pycoa.git@v2.0"
      ],
      "execution_count": 2,
      "outputs": [
        {
          "output_type": "stream",
          "text": [
            "Collecting git+https://github.com/coa-project/pycoa.git@v2.0\n",
            "  Cloning https://github.com/coa-project/pycoa.git (to revision v2.0) to /tmp/pip-req-build-3r1_lvo9\n",
            "  Running command git clone -q https://github.com/coa-project/pycoa.git /tmp/pip-req-build-3r1_lvo9\n",
            "  Running command git checkout -q 280a1195669ce1a6f397d9d0f2ac31215487f3ed\n",
            "Requirement already satisfied: bokeh in /usr/local/lib/python3.6/dist-packages (from PyCoA==2.0) (2.1.1)\n",
            "Requirement already satisfied: branca in /usr/local/lib/python3.6/dist-packages (from PyCoA==2.0) (0.4.2)\n",
            "Requirement already satisfied: bs4 in /usr/local/lib/python3.6/dist-packages (from PyCoA==2.0) (0.0.1)\n",
            "Collecting datascroller\n",
            "\u001b[?25l  Downloading https://files.pythonhosted.org/packages/90/25/cbdc9a3e7b0b6b39dafea6a22c73ed4e012903892f6faf3696724e40e6bb/datascroller-1.4.1.tar.gz (155kB)\n",
            "\u001b[K     |████████████████████████████████| 163kB 5.6MB/s \n",
            "\u001b[?25hCollecting datetime\n",
            "\u001b[?25l  Downloading https://files.pythonhosted.org/packages/73/22/a5297f3a1f92468cc737f8ce7ba6e5f245fcfafeae810ba37bd1039ea01c/DateTime-4.3-py2.py3-none-any.whl (60kB)\n",
            "\u001b[K     |████████████████████████████████| 61kB 5.1MB/s \n",
            "\u001b[?25hCollecting folium~=0.12.1\n",
            "\u001b[?25l  Downloading https://files.pythonhosted.org/packages/c3/83/e8cb37afc2f016a1cf4caab8d22caf7fe4156c4c15230d8abc9c83547e0c/folium-0.12.1-py2.py3-none-any.whl (94kB)\n",
            "\u001b[K     |████████████████████████████████| 102kB 6.8MB/s \n",
            "\u001b[?25hCollecting geopandas\n",
            "\u001b[?25l  Downloading https://files.pythonhosted.org/packages/2a/9f/e8a440a993e024c0d3d4e5c7d3346367c50c9a1a3d735caf5ee3bde0aab1/geopandas-0.8.2-py2.py3-none-any.whl (962kB)\n",
            "\u001b[K     |████████████████████████████████| 972kB 14.7MB/s \n",
            "\u001b[?25hRequirement already satisfied: matplotlib in /usr/local/lib/python3.6/dist-packages (from PyCoA==2.0) (3.2.2)\n",
            "Requirement already satisfied: numpy in /usr/local/lib/python3.6/dist-packages (from PyCoA==2.0) (1.19.5)\n",
            "Requirement already satisfied: pandas in /usr/local/lib/python3.6/dist-packages (from PyCoA==2.0) (1.1.5)\n",
            "Collecting pycountry\n",
            "\u001b[?25l  Downloading https://files.pythonhosted.org/packages/76/73/6f1a412f14f68c273feea29a6ea9b9f1e268177d32e0e69ad6790d306312/pycountry-20.7.3.tar.gz (10.1MB)\n",
            "\u001b[K     |████████████████████████████████| 10.1MB 24.0MB/s \n",
            "\u001b[?25hCollecting pycountry_convert\n",
            "  Downloading https://files.pythonhosted.org/packages/9b/e7/26c14899a43c34e04a58e3772007afe79dbd64fac15d2fbaeedff24082f2/pycountry_convert-0.7.2-py3-none-any.whl\n",
            "Requirement already satisfied: requests in /usr/local/lib/python3.6/dist-packages (from PyCoA==2.0) (2.23.0)\n",
            "Requirement already satisfied: scipy in /usr/local/lib/python3.6/dist-packages (from PyCoA==2.0) (1.4.1)\n",
            "Requirement already satisfied: shapely in /usr/local/lib/python3.6/dist-packages (from PyCoA==2.0) (1.7.1)\n",
            "Requirement already satisfied: typing-extensions>=3.7.4 in /usr/local/lib/python3.6/dist-packages (from bokeh->PyCoA==2.0) (3.7.4.3)\n",
            "Requirement already satisfied: PyYAML>=3.10 in /usr/local/lib/python3.6/dist-packages (from bokeh->PyCoA==2.0) (3.13)\n",
            "Requirement already satisfied: Jinja2>=2.7 in /usr/local/lib/python3.6/dist-packages (from bokeh->PyCoA==2.0) (2.11.3)\n",
            "Requirement already satisfied: pillow>=4.0 in /usr/local/lib/python3.6/dist-packages (from bokeh->PyCoA==2.0) (7.0.0)\n",
            "Requirement already satisfied: python-dateutil>=2.1 in /usr/local/lib/python3.6/dist-packages (from bokeh->PyCoA==2.0) (2.8.1)\n",
            "Requirement already satisfied: tornado>=5.1 in /usr/local/lib/python3.6/dist-packages (from bokeh->PyCoA==2.0) (5.1.1)\n",
            "Requirement already satisfied: packaging>=16.8 in /usr/local/lib/python3.6/dist-packages (from bokeh->PyCoA==2.0) (20.9)\n",
            "Requirement already satisfied: beautifulsoup4 in /usr/local/lib/python3.6/dist-packages (from bs4->PyCoA==2.0) (4.6.3)\n",
            "Collecting pandasql\n",
            "  Downloading https://files.pythonhosted.org/packages/6b/c4/ee4096ffa2eeeca0c749b26f0371bd26aa5c8b611c43de99a4f86d3de0a7/pandasql-0.7.3.tar.gz\n",
            "Requirement already satisfied: pyarrow in /usr/local/lib/python3.6/dist-packages (from datascroller->PyCoA==2.0) (0.14.1)\n",
            "Collecting zope.interface\n",
            "\u001b[?25l  Downloading https://files.pythonhosted.org/packages/82/b0/da8afd9b3bd50c7665ecdac062f182982af1173c9081f9af7261091c5588/zope.interface-5.2.0-cp36-cp36m-manylinux2010_x86_64.whl (236kB)\n",
            "\u001b[K     |████████████████████████████████| 245kB 42.4MB/s \n",
            "\u001b[?25hRequirement already satisfied: pytz in /usr/local/lib/python3.6/dist-packages (from datetime->PyCoA==2.0) (2018.9)\n",
            "Collecting fiona\n",
            "\u001b[?25l  Downloading https://files.pythonhosted.org/packages/37/94/4910fd55246c1d963727b03885ead6ef1cd3748a465f7b0239ab25dfc9a3/Fiona-1.8.18-cp36-cp36m-manylinux1_x86_64.whl (14.8MB)\n",
            "\u001b[K     |████████████████████████████████| 14.8MB 303kB/s \n",
            "\u001b[?25hCollecting pyproj>=2.2.0\n",
            "\u001b[?25l  Downloading https://files.pythonhosted.org/packages/e4/ab/280e80a67cfc109d15428c0ec56391fc03a65857b7727cf4e6e6f99a4204/pyproj-3.0.0.post1-cp36-cp36m-manylinux2010_x86_64.whl (6.4MB)\n",
            "\u001b[K     |████████████████████████████████| 6.5MB 46.1MB/s \n",
            "\u001b[?25hRequirement already satisfied: kiwisolver>=1.0.1 in /usr/local/lib/python3.6/dist-packages (from matplotlib->PyCoA==2.0) (1.3.1)\n",
            "Requirement already satisfied: cycler>=0.10 in /usr/local/lib/python3.6/dist-packages (from matplotlib->PyCoA==2.0) (0.10.0)\n",
            "Requirement already satisfied: pyparsing!=2.0.4,!=2.1.2,!=2.1.6,>=2.0.1 in /usr/local/lib/python3.6/dist-packages (from matplotlib->PyCoA==2.0) (2.4.7)\n",
            "Requirement already satisfied: wheel>=0.30.0 in /usr/local/lib/python3.6/dist-packages (from pycountry_convert->PyCoA==2.0) (0.36.2)\n",
            "Collecting repoze.lru>=0.7\n",
            "  Downloading https://files.pythonhosted.org/packages/b0/30/6cc0c95f0b59ad4b3b9163bff7cdcf793cc96fac64cf398ff26271f5cf5e/repoze.lru-0.7-py3-none-any.whl\n",
            "Collecting pprintpp>=0.3.0\n",
            "  Downloading https://files.pythonhosted.org/packages/4e/d1/e4ed95fdd3ef13b78630280d9e9e240aeb65cc7c544ec57106149c3942fb/pprintpp-0.4.0-py2.py3-none-any.whl\n",
            "Collecting pytest-cov>=2.5.1\n",
            "  Downloading https://files.pythonhosted.org/packages/e3/1a/6affecd2344efee7f2487fac82242474cbac09f9e04929da5944907baf11/pytest_cov-2.11.1-py2.py3-none-any.whl\n",
            "Collecting pytest-mock>=1.6.3\n",
            "  Downloading https://files.pythonhosted.org/packages/1d/ba/8bf763e2f300c1eba8f07506efd87a3c1c346e751d4dc618c444924b7c22/pytest_mock-3.5.1-py3-none-any.whl\n",
            "Requirement already satisfied: pytest>=3.4.0 in /usr/local/lib/python3.6/dist-packages (from pycountry_convert->PyCoA==2.0) (3.6.4)\n",
            "Requirement already satisfied: certifi>=2017.4.17 in /usr/local/lib/python3.6/dist-packages (from requests->PyCoA==2.0) (2020.12.5)\n",
            "Requirement already satisfied: urllib3!=1.25.0,!=1.25.1,<1.26,>=1.21.1 in /usr/local/lib/python3.6/dist-packages (from requests->PyCoA==2.0) (1.24.3)\n",
            "Requirement already satisfied: idna<3,>=2.5 in /usr/local/lib/python3.6/dist-packages (from requests->PyCoA==2.0) (2.10)\n",
            "Requirement already satisfied: chardet<4,>=3.0.2 in /usr/local/lib/python3.6/dist-packages (from requests->PyCoA==2.0) (3.0.4)\n",
            "Requirement already satisfied: MarkupSafe>=0.23 in /usr/local/lib/python3.6/dist-packages (from Jinja2>=2.7->bokeh->PyCoA==2.0) (1.1.1)\n",
            "Requirement already satisfied: six>=1.5 in /usr/local/lib/python3.6/dist-packages (from python-dateutil>=2.1->bokeh->PyCoA==2.0) (1.15.0)\n",
            "Requirement already satisfied: sqlalchemy in /usr/local/lib/python3.6/dist-packages (from pandasql->datascroller->PyCoA==2.0) (1.3.23)\n",
            "Requirement already satisfied: setuptools in /usr/local/lib/python3.6/dist-packages (from zope.interface->datetime->PyCoA==2.0) (53.0.0)\n",
            "Requirement already satisfied: click<8,>=4.0 in /usr/local/lib/python3.6/dist-packages (from fiona->geopandas->PyCoA==2.0) (7.1.2)\n",
            "Collecting munch\n",
            "  Downloading https://files.pythonhosted.org/packages/cc/ab/85d8da5c9a45e072301beb37ad7f833cd344e04c817d97e0cc75681d248f/munch-2.5.0-py2.py3-none-any.whl\n",
            "Collecting cligj>=0.5\n",
            "  Downloading https://files.pythonhosted.org/packages/42/1e/947eadf10d6804bf276eb8a038bd5307996dceaaa41cfd21b7a15ec62f5d/cligj-0.7.1-py3-none-any.whl\n",
            "Requirement already satisfied: attrs>=17 in /usr/local/lib/python3.6/dist-packages (from fiona->geopandas->PyCoA==2.0) (20.3.0)\n",
            "Collecting click-plugins>=1.0\n",
            "  Downloading https://files.pythonhosted.org/packages/e9/da/824b92d9942f4e472702488857914bdd50f73021efea15b4cad9aca8ecef/click_plugins-1.1.1-py2.py3-none-any.whl\n",
            "Collecting coverage>=5.2.1\n",
            "\u001b[?25l  Downloading https://files.pythonhosted.org/packages/b3/4f/72f381d5027bd1e7efa13a2f2e5f930603ccb2232aafe945e059aed00429/coverage-5.4-cp36-cp36m-manylinux2010_x86_64.whl (240kB)\n",
            "\u001b[K     |████████████████████████████████| 245kB 41.3MB/s \n",
            "\u001b[?25hRequirement already satisfied: pluggy<0.8,>=0.5 in /usr/local/lib/python3.6/dist-packages (from pytest>=3.4.0->pycountry_convert->PyCoA==2.0) (0.7.1)\n",
            "Requirement already satisfied: more-itertools>=4.0.0 in /usr/local/lib/python3.6/dist-packages (from pytest>=3.4.0->pycountry_convert->PyCoA==2.0) (8.7.0)\n",
            "Requirement already satisfied: py>=1.5.0 in /usr/local/lib/python3.6/dist-packages (from pytest>=3.4.0->pycountry_convert->PyCoA==2.0) (1.10.0)\n",
            "Requirement already satisfied: atomicwrites>=1.0 in /usr/local/lib/python3.6/dist-packages (from pytest>=3.4.0->pycountry_convert->PyCoA==2.0) (1.4.0)\n",
            "Building wheels for collected packages: PyCoA, datascroller, pycountry, pandasql\n",
            "  Building wheel for PyCoA (setup.py) ... \u001b[?25l\u001b[?25hdone\n",
            "  Created wheel for PyCoA: filename=PyCoA-2.0-cp36-none-any.whl size=53622 sha256=09fe952cadcfc134384f97ae99ae4fbb6b41f8b371bfd88f7d41e57c0f2ba989\n",
            "  Stored in directory: /tmp/pip-ephem-wheel-cache-8m_z89oz/wheels/1d/5a/50/0d593f2016ef11717d3a344cbae2fc1291dbd04d2d6cbc59ed\n",
            "  Building wheel for datascroller (setup.py) ... \u001b[?25l\u001b[?25hdone\n",
            "  Created wheel for datascroller: filename=datascroller-1.4.1-cp36-none-any.whl size=157709 sha256=8bee5a27ab61ae20f465b9d39b9a96461a7545dba7ff65e446231712a1f12287\n",
            "  Stored in directory: /root/.cache/pip/wheels/63/1e/99/529b3dd2ec5c9d5edc25c0c528ff129c441b469fd44ec5af84\n",
            "  Building wheel for pycountry (setup.py) ... \u001b[?25l\u001b[?25hdone\n",
            "  Created wheel for pycountry: filename=pycountry-20.7.3-py2.py3-none-any.whl size=10746863 sha256=1b54a0bc179abac8b4a3684bf6b9e4a77f741577345f0341f5d2554f0a121a72\n",
            "  Stored in directory: /root/.cache/pip/wheels/33/4e/a6/be297e6b83567e537bed9df4a93f8590ec01c1acfbcd405348\n",
            "  Building wheel for pandasql (setup.py) ... \u001b[?25l\u001b[?25hdone\n",
            "  Created wheel for pandasql: filename=pandasql-0.7.3-cp36-none-any.whl size=26820 sha256=ec309a105be1d1fb42cf7526ee9be4dba9d29895a9dff9533b74ce7e24fe0ae1\n",
            "  Stored in directory: /root/.cache/pip/wheels/53/6c/18/b87a2e5fa8a82e9c026311de56210b8d1c01846e18a9607fc9\n",
            "Successfully built PyCoA datascroller pycountry pandasql\n",
            "\u001b[31mERROR: datascience 0.10.6 has requirement coverage==3.7.1, but you'll have coverage 5.4 which is incompatible.\u001b[0m\n",
            "\u001b[31mERROR: datascience 0.10.6 has requirement folium==0.2.1, but you'll have folium 0.12.1 which is incompatible.\u001b[0m\n",
            "\u001b[31mERROR: coveralls 0.5 has requirement coverage<3.999,>=3.6, but you'll have coverage 5.4 which is incompatible.\u001b[0m\n",
            "\u001b[31mERROR: pytest-cov 2.11.1 has requirement pytest>=4.6, but you'll have pytest 3.6.4 which is incompatible.\u001b[0m\n",
            "\u001b[31mERROR: pytest-mock 3.5.1 has requirement pytest>=5.0, but you'll have pytest 3.6.4 which is incompatible.\u001b[0m\n",
            "Installing collected packages: pandasql, datascroller, zope.interface, datetime, folium, munch, cligj, click-plugins, fiona, pyproj, geopandas, pycountry, repoze.lru, pprintpp, coverage, pytest-cov, pytest-mock, pycountry-convert, PyCoA\n",
            "  Found existing installation: folium 0.8.3\n",
            "    Uninstalling folium-0.8.3:\n",
            "      Successfully uninstalled folium-0.8.3\n",
            "  Found existing installation: coverage 3.7.1\n",
            "    Uninstalling coverage-3.7.1:\n",
            "      Successfully uninstalled coverage-3.7.1\n",
            "Successfully installed PyCoA-2.0 click-plugins-1.1.1 cligj-0.7.1 coverage-5.4 datascroller-1.4.1 datetime-4.3 fiona-1.8.18 folium-0.12.1 geopandas-0.8.2 munch-2.5.0 pandasql-0.7.3 pprintpp-0.4.0 pycountry-20.7.3 pycountry-convert-0.7.2 pyproj-3.0.0.post1 pytest-cov-2.11.1 pytest-mock-3.5.1 repoze.lru-0.7 zope.interface-5.2.0\n"
          ],
          "name": "stdout"
        }
      ]
    },
    {
      "cell_type": "code",
      "metadata": {
        "id": "MOuSrcGdI6Nq",
        "colab": {
          "base_uri": "https://localhost:8080/"
        },
        "outputId": "2994db5e-08c2-40ba-c53b-b4974e31f42d"
      },
      "source": [
        "import sys\n",
        "# sys.path.insert(1, '../pycoa')   # adapt the path for local install, if necessary. Under google colab, do not change anything\n",
        "\n",
        "import importlib\n",
        "coa_module_info = importlib.util.find_spec(\"coa\")\n",
        "if coa_module_info == None:\n",
        "  raise ModuleNotFoundError(\"The coa module is not found. Please check your install\")\n",
        "\n",
        "import coa\n",
        "print(coa.__version__, coa.__author__ , coa.__email__ ) # print some informations\n",
        "if coa.__version__ != 'v2.0':\n",
        "  raise ImportError(\"The pycoa package version is incorrect. Expecting dev.\")"
      ],
      "execution_count": 3,
      "outputs": [
        {
          "output_type": "stream",
          "text": [
            "v2.0 Tristan Beau, Julien Browaeys, Olivier Dadoun support@pycoa.fr\n"
          ],
          "name": "stdout"
        }
      ]
    },
    {
      "cell_type": "code",
      "metadata": {
        "id": "a7S3ZtTKNkwn",
        "colab": {
          "base_uri": "https://localhost:8080/"
        },
        "outputId": "2fd5744b-9bbe-4e7d-8400-201a5be95747"
      },
      "source": [
        "import coa.front as cf"
      ],
      "execution_count": 4,
      "outputs": [
        {
          "output_type": "stream",
          "text": [
            "JHU aka Johns Hopkins database selected ...\n",
            "Few information concernant the selected database :  jhu\n",
            "Available which key-words for:  ['deaths', 'confirmed', 'recovered']\n",
            "Example of location :  Bahamas, Panama, Sierra Leone, Algeria, Eswatini  ...\n",
            "Last date data  2021-02-13\n"
          ],
          "name": "stdout"
        }
      ]
    },
    {
      "cell_type": "code",
      "metadata": {
        "id": "Mex3OQI-YJ-2"
      },
      "source": [
        "from bokeh.io import save,output_file"
      ],
      "execution_count": 5,
      "outputs": []
    },
    {
      "cell_type": "code",
      "metadata": {
        "colab": {
          "base_uri": "https://localhost:8080/",
          "height": 755
        },
        "id": "UWDzSsgrq486",
        "outputId": "14f140bf-4a4d-4c55-8616-d2967eb20652"
      },
      "source": [
        "cf.setwhom('jhu') # default db\n",
        "a=cf.get(option='sumall',output='pandas') # default is for all countries\n",
        "output_file(\"pycoa_v2_plot_sumall.html\")\n",
        "save(cf._cocoplot.pycoa_date_plot(a,option='sumall'))\n",
        "\n",
        "b=cf.get(where=['european union','gbr'],output='pandas')\n",
        "output_file(\"pycoa_v2_plot_std.html\")\n",
        "save(cf._cocoplot.pycoa_date_plot(b,where=['european union','gbr']))\n",
        "\n",
        "c=cf.get(where='americas',what='daily',when='01/02/2021',which='confirmed',output='pandas')\n",
        "output_file(\"pycoa_v2_map.html\")\n",
        "save(cf._cocoplot.bokeh_map(c,None,where='americas',what='daily',when='01/02/2021',which='confirmed'))\n",
        "\n",
        "cf.setwhom('owid') # changing database\n",
        "d=cf.get(which='total_vaccinations',output='pandas') # default is for all countries\n",
        "output_file(\"pycoa_v2_hist.html\")\n",
        "save(cf._cocoplot.pycoa_horizonhisto(d,None,which='total_vaccinations'))\n",
        "\n",
        "cf.setwhom('jhu-usa')\n",
        "f=cf.get(output='pandas')\n",
        "output_file(\"pycoa_v2_jhu-usa.html\")\n",
        "save(cf._cocoplot.bokeh_map(f,None))\n",
        "\n",
        "cf.setwhom('spf')\n",
        "e=cf.get(which='tot_vacc',tile='esri',output='pandas')\n",
        "output_file(\"pycoa_v2_spf.html\")\n",
        "save(cf._cocoplot.bokeh_map(e,None,which='tot_vacc',tile='esri'))"
      ],
      "execution_count": 18,
      "outputs": [
        {
          "output_type": "stream",
          "text": [
            "JHU aka Johns Hopkins database selected ...\n",
            "Few information concernant the selected database :  jhu\n",
            "Available which key-words for:  ['deaths', 'confirmed', 'recovered']\n",
            "Example of location :  Bahamas, Senegal, Liberia, Namibia, Mauritania  ...\n",
            "Last date data  2021-02-13\n",
            "OWID aka \"Our World in Data\" database selected ...\n",
            "Few information concernant the selected database :  owid\n",
            "Available which key-words for:  ['total_deaths', 'total_cases', 'total_tests', 'total_vaccinations', 'total_cases_per_million', 'total_deaths_per_million', 'total_vaccinations_per_hundred', 'cur_reproduction_rate', 'cur_icu_patients', 'cur_hosp_patients', 'cur_idx_positive_rate']\n",
            "Example of location :  Pakistan, Afghanistan, Croatia, Sao Tome and Principe, Georgia  ...\n",
            "Last date data  2021-02-13\n"
          ],
          "name": "stdout"
        },
        {
          "output_type": "stream",
          "text": [
            "/usr/local/lib/python3.6/dist-packages/coa/display.py:129: FutureWarning: CRS mismatch between CRS of the passed geometries and 'crs'. Use 'GeoDataFrame.set_crs(crs, allow_override=True)' to overwrite CRS or 'GeoDataFrame.to_crs(crs)' to reproject geometries. CRS mismatch will raise an error in the future versions of GeoPandas.\n",
            "  self.data = gpd.GeoDataFrame(geopan,crs=\"EPSG:4326\")\n"
          ],
          "name": "stderr"
        },
        {
          "output_type": "stream",
          "text": [
            "USA, JHU aka Johns Hopkins database selected ...\n",
            "Few information concernant the selected database :  jhu-usa\n",
            "Available which key-words for:  ['deaths', 'confirmed']\n",
            "Example of location :  OR, HI, RI, NY, ND  ...\n",
            "Last date data  2021-02-13\n",
            "SPF aka Sante Publique France database selected ...\n",
            "... Five differents db from SPF will be parsed ...\n"
          ],
          "name": "stdout"
        },
        {
          "output_type": "error",
          "ename": "CoaDbError",
          "evalue": "ignored",
          "traceback": [
            "\u001b[0;31m---------------------------------------------------------------------------\u001b[0m",
            "\u001b[0;31mTypeError\u001b[0m                                 Traceback (most recent call last)",
            "\u001b[0;32m/usr/local/lib/python3.6/dist-packages/coa/covid19.py\u001b[0m in \u001b[0;36m__init__\u001b[0;34m(self, db_name)\u001b[0m\n\u001b[1;32m    132\u001b[0m                     \u001b[0mlist_spf\u001b[0m\u001b[0;34m=\u001b[0m\u001b[0;34m[\u001b[0m\u001b[0mspf1\u001b[0m\u001b[0;34m,\u001b[0m \u001b[0mspf2\u001b[0m\u001b[0;34m,\u001b[0m\u001b[0mspf3\u001b[0m\u001b[0;34m,\u001b[0m\u001b[0mspf4\u001b[0m\u001b[0;34m,\u001b[0m\u001b[0mspf5\u001b[0m\u001b[0;34m]\u001b[0m\u001b[0;34m\u001b[0m\u001b[0;34m\u001b[0m\u001b[0m\n\u001b[0;32m--> 133\u001b[0;31m                     \u001b[0mmin_date\u001b[0m\u001b[0;34m=\u001b[0m\u001b[0mmin\u001b[0m\u001b[0;34m(\u001b[0m\u001b[0;34m[\u001b[0m\u001b[0ms\u001b[0m\u001b[0;34m.\u001b[0m\u001b[0mdate\u001b[0m\u001b[0;34m.\u001b[0m\u001b[0mmin\u001b[0m\u001b[0;34m(\u001b[0m\u001b[0;34m)\u001b[0m \u001b[0;32mfor\u001b[0m \u001b[0ms\u001b[0m \u001b[0;32min\u001b[0m \u001b[0mlist_spf\u001b[0m\u001b[0;34m]\u001b[0m\u001b[0;34m)\u001b[0m\u001b[0;34m\u001b[0m\u001b[0;34m\u001b[0m\u001b[0m\n\u001b[0m\u001b[1;32m    134\u001b[0m                     \u001b[0mmax_date\u001b[0m\u001b[0;34m=\u001b[0m\u001b[0mmax\u001b[0m\u001b[0;34m(\u001b[0m\u001b[0;34m[\u001b[0m\u001b[0ms\u001b[0m\u001b[0;34m.\u001b[0m\u001b[0mdate\u001b[0m\u001b[0;34m.\u001b[0m\u001b[0mmax\u001b[0m\u001b[0;34m(\u001b[0m\u001b[0;34m)\u001b[0m \u001b[0;32mfor\u001b[0m \u001b[0ms\u001b[0m \u001b[0;32min\u001b[0m \u001b[0mlist_spf\u001b[0m\u001b[0;34m]\u001b[0m\u001b[0;34m)\u001b[0m\u001b[0;34m\u001b[0m\u001b[0;34m\u001b[0m\u001b[0m\n",
            "\u001b[0;32m/usr/local/lib/python3.6/dist-packages/coa/covid19.py\u001b[0m in \u001b[0;36m<listcomp>\u001b[0;34m(.0)\u001b[0m\n\u001b[1;32m    132\u001b[0m                     \u001b[0mlist_spf\u001b[0m\u001b[0;34m=\u001b[0m\u001b[0;34m[\u001b[0m\u001b[0mspf1\u001b[0m\u001b[0;34m,\u001b[0m \u001b[0mspf2\u001b[0m\u001b[0;34m,\u001b[0m\u001b[0mspf3\u001b[0m\u001b[0;34m,\u001b[0m\u001b[0mspf4\u001b[0m\u001b[0;34m,\u001b[0m\u001b[0mspf5\u001b[0m\u001b[0;34m]\u001b[0m\u001b[0;34m\u001b[0m\u001b[0;34m\u001b[0m\u001b[0m\n\u001b[0;32m--> 133\u001b[0;31m                     \u001b[0mmin_date\u001b[0m\u001b[0;34m=\u001b[0m\u001b[0mmin\u001b[0m\u001b[0;34m(\u001b[0m\u001b[0;34m[\u001b[0m\u001b[0ms\u001b[0m\u001b[0;34m.\u001b[0m\u001b[0mdate\u001b[0m\u001b[0;34m.\u001b[0m\u001b[0mmin\u001b[0m\u001b[0;34m(\u001b[0m\u001b[0;34m)\u001b[0m \u001b[0;32mfor\u001b[0m \u001b[0ms\u001b[0m \u001b[0;32min\u001b[0m \u001b[0mlist_spf\u001b[0m\u001b[0;34m]\u001b[0m\u001b[0;34m)\u001b[0m\u001b[0;34m\u001b[0m\u001b[0;34m\u001b[0m\u001b[0m\n\u001b[0m\u001b[1;32m    134\u001b[0m                     \u001b[0mmax_date\u001b[0m\u001b[0;34m=\u001b[0m\u001b[0mmax\u001b[0m\u001b[0;34m(\u001b[0m\u001b[0;34m[\u001b[0m\u001b[0ms\u001b[0m\u001b[0;34m.\u001b[0m\u001b[0mdate\u001b[0m\u001b[0;34m.\u001b[0m\u001b[0mmax\u001b[0m\u001b[0;34m(\u001b[0m\u001b[0;34m)\u001b[0m \u001b[0;32mfor\u001b[0m \u001b[0ms\u001b[0m \u001b[0;32min\u001b[0m \u001b[0mlist_spf\u001b[0m\u001b[0;34m]\u001b[0m\u001b[0;34m)\u001b[0m\u001b[0;34m\u001b[0m\u001b[0;34m\u001b[0m\u001b[0m\n",
            "\u001b[0;32m/usr/local/lib/python3.6/dist-packages/pandas/core/generic.py\u001b[0m in \u001b[0;36mstat_func\u001b[0;34m(self, axis, skipna, level, numeric_only, **kwargs)\u001b[0m\n\u001b[1;32m  11474\u001b[0m         return self._reduce(\n\u001b[0;32m> 11475\u001b[0;31m             \u001b[0mfunc\u001b[0m\u001b[0;34m,\u001b[0m \u001b[0mname\u001b[0m\u001b[0;34m=\u001b[0m\u001b[0mname\u001b[0m\u001b[0;34m,\u001b[0m \u001b[0maxis\u001b[0m\u001b[0;34m=\u001b[0m\u001b[0maxis\u001b[0m\u001b[0;34m,\u001b[0m \u001b[0mskipna\u001b[0m\u001b[0;34m=\u001b[0m\u001b[0mskipna\u001b[0m\u001b[0;34m,\u001b[0m \u001b[0mnumeric_only\u001b[0m\u001b[0;34m=\u001b[0m\u001b[0mnumeric_only\u001b[0m\u001b[0;34m\u001b[0m\u001b[0;34m\u001b[0m\u001b[0m\n\u001b[0m\u001b[1;32m  11476\u001b[0m         )\n",
            "\u001b[0;32m/usr/local/lib/python3.6/dist-packages/pandas/core/series.py\u001b[0m in \u001b[0;36m_reduce\u001b[0;34m(self, op, name, axis, skipna, numeric_only, filter_type, **kwds)\u001b[0m\n\u001b[1;32m   4248\u001b[0m             \u001b[0;32mwith\u001b[0m \u001b[0mnp\u001b[0m\u001b[0;34m.\u001b[0m\u001b[0merrstate\u001b[0m\u001b[0;34m(\u001b[0m\u001b[0mall\u001b[0m\u001b[0;34m=\u001b[0m\u001b[0;34m\"ignore\"\u001b[0m\u001b[0;34m)\u001b[0m\u001b[0;34m:\u001b[0m\u001b[0;34m\u001b[0m\u001b[0;34m\u001b[0m\u001b[0m\n\u001b[0;32m-> 4249\u001b[0;31m                 \u001b[0;32mreturn\u001b[0m \u001b[0mop\u001b[0m\u001b[0;34m(\u001b[0m\u001b[0mdelegate\u001b[0m\u001b[0;34m,\u001b[0m \u001b[0mskipna\u001b[0m\u001b[0;34m=\u001b[0m\u001b[0mskipna\u001b[0m\u001b[0;34m,\u001b[0m \u001b[0;34m**\u001b[0m\u001b[0mkwds\u001b[0m\u001b[0;34m)\u001b[0m\u001b[0;34m\u001b[0m\u001b[0;34m\u001b[0m\u001b[0m\n\u001b[0m\u001b[1;32m   4250\u001b[0m \u001b[0;34m\u001b[0m\u001b[0m\n",
            "\u001b[0;32m/usr/local/lib/python3.6/dist-packages/pandas/core/nanops.py\u001b[0m in \u001b[0;36mf\u001b[0;34m(values, axis, skipna, **kwds)\u001b[0m\n\u001b[1;32m    128\u001b[0m             \u001b[0;32melse\u001b[0m\u001b[0;34m:\u001b[0m\u001b[0;34m\u001b[0m\u001b[0;34m\u001b[0m\u001b[0m\n\u001b[0;32m--> 129\u001b[0;31m                 \u001b[0mresult\u001b[0m \u001b[0;34m=\u001b[0m \u001b[0malt\u001b[0m\u001b[0;34m(\u001b[0m\u001b[0mvalues\u001b[0m\u001b[0;34m,\u001b[0m \u001b[0maxis\u001b[0m\u001b[0;34m=\u001b[0m\u001b[0maxis\u001b[0m\u001b[0;34m,\u001b[0m \u001b[0mskipna\u001b[0m\u001b[0;34m=\u001b[0m\u001b[0mskipna\u001b[0m\u001b[0;34m,\u001b[0m \u001b[0;34m**\u001b[0m\u001b[0mkwds\u001b[0m\u001b[0;34m)\u001b[0m\u001b[0;34m\u001b[0m\u001b[0;34m\u001b[0m\u001b[0m\n\u001b[0m\u001b[1;32m    130\u001b[0m \u001b[0;34m\u001b[0m\u001b[0m\n",
            "\u001b[0;32m/usr/local/lib/python3.6/dist-packages/pandas/core/nanops.py\u001b[0m in \u001b[0;36mreduction\u001b[0;34m(values, axis, skipna, mask)\u001b[0m\n\u001b[1;32m    872\u001b[0m         \u001b[0;32melse\u001b[0m\u001b[0;34m:\u001b[0m\u001b[0;34m\u001b[0m\u001b[0;34m\u001b[0m\u001b[0m\n\u001b[0;32m--> 873\u001b[0;31m             \u001b[0mresult\u001b[0m \u001b[0;34m=\u001b[0m \u001b[0mgetattr\u001b[0m\u001b[0;34m(\u001b[0m\u001b[0mvalues\u001b[0m\u001b[0;34m,\u001b[0m \u001b[0mmeth\u001b[0m\u001b[0;34m)\u001b[0m\u001b[0;34m(\u001b[0m\u001b[0maxis\u001b[0m\u001b[0;34m)\u001b[0m\u001b[0;34m\u001b[0m\u001b[0;34m\u001b[0m\u001b[0m\n\u001b[0m\u001b[1;32m    874\u001b[0m \u001b[0;34m\u001b[0m\u001b[0m\n",
            "\u001b[0;32m/usr/local/lib/python3.6/dist-packages/numpy/core/_methods.py\u001b[0m in \u001b[0;36m_amin\u001b[0;34m(a, axis, out, keepdims, initial, where)\u001b[0m\n\u001b[1;32m     42\u001b[0m           initial=_NoValue, where=True):\n\u001b[0;32m---> 43\u001b[0;31m     \u001b[0;32mreturn\u001b[0m \u001b[0mumr_minimum\u001b[0m\u001b[0;34m(\u001b[0m\u001b[0ma\u001b[0m\u001b[0;34m,\u001b[0m \u001b[0maxis\u001b[0m\u001b[0;34m,\u001b[0m \u001b[0;32mNone\u001b[0m\u001b[0;34m,\u001b[0m \u001b[0mout\u001b[0m\u001b[0;34m,\u001b[0m \u001b[0mkeepdims\u001b[0m\u001b[0;34m,\u001b[0m \u001b[0minitial\u001b[0m\u001b[0;34m,\u001b[0m \u001b[0mwhere\u001b[0m\u001b[0;34m)\u001b[0m\u001b[0;34m\u001b[0m\u001b[0;34m\u001b[0m\u001b[0m\n\u001b[0m\u001b[1;32m     44\u001b[0m \u001b[0;34m\u001b[0m\u001b[0m\n",
            "\u001b[0;31mTypeError\u001b[0m: '<=' not supported between instances of 'datetime.date' and 'float'",
            "\nDuring handling of the above exception, another exception occurred:\n",
            "\u001b[0;31mCoaDbError\u001b[0m                                Traceback (most recent call last)",
            "\u001b[0;32m<ipython-input-18-0da9cd4c658d>\u001b[0m in \u001b[0;36m<module>\u001b[0;34m()\u001b[0m\n\u001b[1;32m     22\u001b[0m \u001b[0msave\u001b[0m\u001b[0;34m(\u001b[0m\u001b[0mcf\u001b[0m\u001b[0;34m.\u001b[0m\u001b[0m_cocoplot\u001b[0m\u001b[0;34m.\u001b[0m\u001b[0mbokeh_map\u001b[0m\u001b[0;34m(\u001b[0m\u001b[0mf\u001b[0m\u001b[0;34m,\u001b[0m\u001b[0;32mNone\u001b[0m\u001b[0;34m)\u001b[0m\u001b[0;34m)\u001b[0m\u001b[0;34m\u001b[0m\u001b[0;34m\u001b[0m\u001b[0m\n\u001b[1;32m     23\u001b[0m \u001b[0;34m\u001b[0m\u001b[0m\n\u001b[0;32m---> 24\u001b[0;31m \u001b[0mcf\u001b[0m\u001b[0;34m.\u001b[0m\u001b[0msetwhom\u001b[0m\u001b[0;34m(\u001b[0m\u001b[0;34m'spf'\u001b[0m\u001b[0;34m)\u001b[0m\u001b[0;34m\u001b[0m\u001b[0;34m\u001b[0m\u001b[0m\n\u001b[0m\u001b[1;32m     25\u001b[0m \u001b[0me\u001b[0m\u001b[0;34m=\u001b[0m\u001b[0mcf\u001b[0m\u001b[0;34m.\u001b[0m\u001b[0mget\u001b[0m\u001b[0;34m(\u001b[0m\u001b[0mwhich\u001b[0m\u001b[0;34m=\u001b[0m\u001b[0;34m'tot_vacc'\u001b[0m\u001b[0;34m,\u001b[0m\u001b[0mtile\u001b[0m\u001b[0;34m=\u001b[0m\u001b[0;34m'esri'\u001b[0m\u001b[0;34m,\u001b[0m\u001b[0moutput\u001b[0m\u001b[0;34m=\u001b[0m\u001b[0;34m'pandas'\u001b[0m\u001b[0;34m)\u001b[0m\u001b[0;34m\u001b[0m\u001b[0;34m\u001b[0m\u001b[0m\n\u001b[1;32m     26\u001b[0m \u001b[0moutput_file\u001b[0m\u001b[0;34m(\u001b[0m\u001b[0;34m\"pycoa_v2_spf.html\"\u001b[0m\u001b[0;34m)\u001b[0m\u001b[0;34m\u001b[0m\u001b[0;34m\u001b[0m\u001b[0m\n",
            "\u001b[0;32m/usr/local/lib/python3.6/dist-packages/coa/front.py\u001b[0m in \u001b[0;36msetwhom\u001b[0;34m(base)\u001b[0m\n\u001b[1;32m    179\u001b[0m             'See pycoa.listbase() for the full list.')\n\u001b[1;32m    180\u001b[0m     \u001b[0;32mif\u001b[0m \u001b[0;32mTrue\u001b[0m\u001b[0;34m:\u001b[0m \u001b[0;31m#force the init #_whom != base:\u001b[0m\u001b[0;34m\u001b[0m\u001b[0;34m\u001b[0m\u001b[0m\n\u001b[0;32m--> 181\u001b[0;31m         \u001b[0m_db\u001b[0m\u001b[0;34m,\u001b[0m\u001b[0m_cocoplot\u001b[0m \u001b[0;34m=\u001b[0m \u001b[0mcoco\u001b[0m\u001b[0;34m.\u001b[0m\u001b[0mDataBase\u001b[0m\u001b[0;34m.\u001b[0m\u001b[0mfactory\u001b[0m\u001b[0;34m(\u001b[0m\u001b[0mbase\u001b[0m\u001b[0;34m)\u001b[0m\u001b[0;34m\u001b[0m\u001b[0;34m\u001b[0m\u001b[0m\n\u001b[0m\u001b[1;32m    182\u001b[0m         \u001b[0m_whom\u001b[0m \u001b[0;34m=\u001b[0m \u001b[0mbase\u001b[0m\u001b[0;34m\u001b[0m\u001b[0;34m\u001b[0m\u001b[0m\n\u001b[1;32m    183\u001b[0m \u001b[0;34m\u001b[0m\u001b[0m\n",
            "\u001b[0;32m/usr/local/lib/python3.6/dist-packages/coa/covid19.py\u001b[0m in \u001b[0;36mfactory\u001b[0;34m(db_name)\u001b[0m\n\u001b[1;32m    237\u001b[0m         \u001b[0mThis\u001b[0m \u001b[0;32mis\u001b[0m \u001b[0mrecommended\u001b[0m \u001b[0mto\u001b[0m \u001b[0mavoid\u001b[0m \u001b[0mmismatch\u001b[0m \u001b[0;32min\u001b[0m \u001b[0mlabeled\u001b[0m \u001b[0mfigures\u001b[0m\u001b[0;34m\u001b[0m\u001b[0;34m\u001b[0m\u001b[0m\n\u001b[1;32m    238\u001b[0m        '''\n\u001b[0;32m--> 239\u001b[0;31m        \u001b[0mdatab\u001b[0m \u001b[0;34m=\u001b[0m \u001b[0mDataBase\u001b[0m\u001b[0;34m(\u001b[0m\u001b[0mdb_name\u001b[0m\u001b[0;34m)\u001b[0m\u001b[0;34m\u001b[0m\u001b[0;34m\u001b[0m\u001b[0m\n\u001b[0m\u001b[1;32m    240\u001b[0m        \u001b[0;32mreturn\u001b[0m  \u001b[0mdatab\u001b[0m\u001b[0;34m,\u001b[0m\u001b[0mdatab\u001b[0m\u001b[0;34m.\u001b[0m\u001b[0mget_display\u001b[0m\u001b[0;34m(\u001b[0m\u001b[0;34m)\u001b[0m\u001b[0;34m\u001b[0m\u001b[0;34m\u001b[0m\u001b[0m\n\u001b[1;32m    241\u001b[0m \u001b[0;34m\u001b[0m\u001b[0m\n",
            "\u001b[0;32m/usr/local/lib/python3.6/dist-packages/coa/covid19.py\u001b[0m in \u001b[0;36m__init__\u001b[0;34m(self, db_name)\u001b[0m\n\u001b[1;32m    223\u001b[0m                     \u001b[0mself\u001b[0m\u001b[0;34m.\u001b[0m\u001b[0mreturn_structured_pandas\u001b[0m\u001b[0;34m(\u001b[0m\u001b[0mowid\u001b[0m\u001b[0;34m.\u001b[0m\u001b[0mrename\u001b[0m\u001b[0;34m(\u001b[0m\u001b[0mcolumns\u001b[0m\u001b[0;34m=\u001b[0m\u001b[0mdict\u001b[0m\u001b[0;34m(\u001b[0m\u001b[0mzip\u001b[0m\u001b[0;34m(\u001b[0m\u001b[0mcol_to_rename\u001b[0m\u001b[0;34m,\u001b[0m\u001b[0mrenamed_cols\u001b[0m\u001b[0;34m)\u001b[0m\u001b[0;34m)\u001b[0m\u001b[0;34m)\u001b[0m\u001b[0;34m,\u001b[0m\u001b[0mcolumns_keeped\u001b[0m\u001b[0;34m=\u001b[0m\u001b[0mcolumns_keeped\u001b[0m\u001b[0;34m+\u001b[0m\u001b[0mrenamed_cols\u001b[0m\u001b[0;34m)\u001b[0m\u001b[0;34m\u001b[0m\u001b[0;34m\u001b[0m\u001b[0m\n\u001b[1;32m    224\u001b[0m             \u001b[0;32mexcept\u001b[0m\u001b[0;34m:\u001b[0m\u001b[0;34m\u001b[0m\u001b[0;34m\u001b[0m\u001b[0m\n\u001b[0;32m--> 225\u001b[0;31m                 raise CoaDbError(\"An error occured while parsing data of \"+self.get_db()+\". This may be due to a data format modification. \"\n\u001b[0m\u001b[1;32m    226\u001b[0m                     \"You may contact support@pycoa.fr. Thanks.\")\n\u001b[1;32m    227\u001b[0m             \u001b[0;31m# some info\u001b[0m\u001b[0;34m\u001b[0m\u001b[0;34m\u001b[0m\u001b[0;34m\u001b[0m\u001b[0m\n",
            "\u001b[0;31mCoaDbError\u001b[0m: An error occured while parsing data of spf. This may be due to a data format modification. You may contact support@pycoa.fr. Thanks."
          ]
        }
      ]
    },
    {
      "cell_type": "code",
      "metadata": {
        "id": "gKai47-IYVTc"
      },
      "source": [
        ""
      ],
      "execution_count": null,
      "outputs": []
    }
  ]
}